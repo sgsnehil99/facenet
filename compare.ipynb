{
  "nbformat": 4,
  "nbformat_minor": 0,
  "metadata": {
    "colab": {
      "name": "compare.ipynb",
      "provenance": [],
      "mount_file_id": "1ZA2N855DUCLxqGWZyTR8OEC4kzi_aJ4J",
      "authorship_tag": "ABX9TyOOxLM1D8qvycnE1Lneizox",
      "include_colab_link": true
    },
    "kernelspec": {
      "name": "python3",
      "display_name": "Python 3"
    },
    "accelerator": "GPU"
  },
  "cells": [
    {
      "cell_type": "markdown",
      "metadata": {
        "id": "view-in-github",
        "colab_type": "text"
      },
      "source": [
        "<a href=\"https://colab.research.google.com/github/sgsnehil99/facenet/blob/master/compare.ipynb\" target=\"_parent\"><img src=\"https://colab.research.google.com/assets/colab-badge.svg\" alt=\"Open In Colab\"/></a>"
      ]
    },
    {
      "cell_type": "code",
      "metadata": {
        "id": "ldfqYpaz8yS1",
        "colab_type": "code",
        "colab": {}
      },
      "source": [
        "from google.colab import drive\n",
        "drive.mount('/content/drive',force_remount=True)"
      ],
      "execution_count": 0,
      "outputs": []
    },
    {
      "cell_type": "code",
      "metadata": {
        "id": "G7pl9CNf83m2",
        "colab_type": "code",
        "colab": {}
      },
      "source": [
        "Model_path = 'content/drive/My Drive/DATASET_face/20180402-114759/20180402-114759.pb' "
      ],
      "execution_count": 0,
      "outputs": []
    },
    {
      "cell_type": "code",
      "metadata": {
        "id": "lPuZTcVW96lB",
        "colab_type": "code",
        "colab": {}
      },
      "source": [
        "import tensorflow as tf\n",
        "tf.test.gpu_device_name()"
      ],
      "execution_count": 0,
      "outputs": []
    },
    {
      "cell_type": "code",
      "metadata": {
        "id": "0MdEkCfOumT4",
        "colab_type": "code",
        "outputId": "c58080a0-1aa6-4159-f098-a2bfdf5cf4eb",
        "colab": {
          "base_uri": "https://localhost:8080/",
          "height": 35
        }
      },
      "source": [
        "tf.__version__"
      ],
      "execution_count": 0,
      "outputs": [
        {
          "output_type": "execute_result",
          "data": {
            "text/plain": [
              "'2.2.0-rc4'"
            ]
          },
          "metadata": {
            "tags": []
          },
          "execution_count": 4
        }
      ]
    },
    {
      "cell_type": "code",
      "metadata": {
        "id": "nqF_40B3xhim",
        "colab_type": "code",
        "outputId": "69ad12dc-eede-4188-a47c-c40fe0b23472",
        "colab": {
          "base_uri": "https://localhost:8080/",
          "height": 904
        }
      },
      "source": [
        "!pip install facenet"
      ],
      "execution_count": 0,
      "outputs": [
        {
          "output_type": "stream",
          "text": [
            "Collecting facenet\n",
            "\u001b[?25l  Downloading https://files.pythonhosted.org/packages/c7/f3/60482134a769400a20574fc802a1adf6f6ea7c25f469307dbeafc896f372/facenet-1.0.5-py3-none-any.whl (2.0MB)\n",
            "\r\u001b[K     |▏                               | 10kB 25.5MB/s eta 0:00:01\r\u001b[K     |▎                               | 20kB 5.9MB/s eta 0:00:01\r\u001b[K     |▌                               | 30kB 7.2MB/s eta 0:00:01\r\u001b[K     |▋                               | 40kB 7.8MB/s eta 0:00:01\r\u001b[K     |▉                               | 51kB 6.6MB/s eta 0:00:01\r\u001b[K     |█                               | 61kB 7.2MB/s eta 0:00:01\r\u001b[K     |█▏                              | 71kB 7.6MB/s eta 0:00:01\r\u001b[K     |█▎                              | 81kB 8.1MB/s eta 0:00:01\r\u001b[K     |█▌                              | 92kB 7.4MB/s eta 0:00:01\r\u001b[K     |█▋                              | 102kB 7.9MB/s eta 0:00:01\r\u001b[K     |█▉                              | 112kB 7.9MB/s eta 0:00:01\r\u001b[K     |██                              | 122kB 7.9MB/s eta 0:00:01\r\u001b[K     |██▏                             | 133kB 7.9MB/s eta 0:00:01\r\u001b[K     |██▎                             | 143kB 7.9MB/s eta 0:00:01\r\u001b[K     |██▍                             | 153kB 7.9MB/s eta 0:00:01\r\u001b[K     |██▋                             | 163kB 7.9MB/s eta 0:00:01\r\u001b[K     |██▊                             | 174kB 7.9MB/s eta 0:00:01\r\u001b[K     |███                             | 184kB 7.9MB/s eta 0:00:01\r\u001b[K     |███                             | 194kB 7.9MB/s eta 0:00:01\r\u001b[K     |███▎                            | 204kB 7.9MB/s eta 0:00:01\r\u001b[K     |███▍                            | 215kB 7.9MB/s eta 0:00:01\r\u001b[K     |███▋                            | 225kB 7.9MB/s eta 0:00:01\r\u001b[K     |███▊                            | 235kB 7.9MB/s eta 0:00:01\r\u001b[K     |████                            | 245kB 7.9MB/s eta 0:00:01\r\u001b[K     |████                            | 256kB 7.9MB/s eta 0:00:01\r\u001b[K     |████▎                           | 266kB 7.9MB/s eta 0:00:01\r\u001b[K     |████▍                           | 276kB 7.9MB/s eta 0:00:01\r\u001b[K     |████▋                           | 286kB 7.9MB/s eta 0:00:01\r\u001b[K     |████▊                           | 296kB 7.9MB/s eta 0:00:01\r\u001b[K     |████▉                           | 307kB 7.9MB/s eta 0:00:01\r\u001b[K     |█████                           | 317kB 7.9MB/s eta 0:00:01\r\u001b[K     |█████▏                          | 327kB 7.9MB/s eta 0:00:01\r\u001b[K     |█████▍                          | 337kB 7.9MB/s eta 0:00:01\r\u001b[K     |█████▌                          | 348kB 7.9MB/s eta 0:00:01\r\u001b[K     |█████▊                          | 358kB 7.9MB/s eta 0:00:01\r\u001b[K     |█████▉                          | 368kB 7.9MB/s eta 0:00:01\r\u001b[K     |██████                          | 378kB 7.9MB/s eta 0:00:01\r\u001b[K     |██████▏                         | 389kB 7.9MB/s eta 0:00:01\r\u001b[K     |██████▍                         | 399kB 7.9MB/s eta 0:00:01\r\u001b[K     |██████▌                         | 409kB 7.9MB/s eta 0:00:01\r\u001b[K     |██████▊                         | 419kB 7.9MB/s eta 0:00:01\r\u001b[K     |██████▉                         | 430kB 7.9MB/s eta 0:00:01\r\u001b[K     |███████                         | 440kB 7.9MB/s eta 0:00:01\r\u001b[K     |███████▏                        | 450kB 7.9MB/s eta 0:00:01\r\u001b[K     |███████▎                        | 460kB 7.9MB/s eta 0:00:01\r\u001b[K     |███████▌                        | 471kB 7.9MB/s eta 0:00:01\r\u001b[K     |███████▋                        | 481kB 7.9MB/s eta 0:00:01\r\u001b[K     |███████▉                        | 491kB 7.9MB/s eta 0:00:01\r\u001b[K     |████████                        | 501kB 7.9MB/s eta 0:00:01\r\u001b[K     |████████▏                       | 512kB 7.9MB/s eta 0:00:01\r\u001b[K     |████████▎                       | 522kB 7.9MB/s eta 0:00:01\r\u001b[K     |████████▌                       | 532kB 7.9MB/s eta 0:00:01\r\u001b[K     |████████▋                       | 542kB 7.9MB/s eta 0:00:01\r\u001b[K     |████████▉                       | 552kB 7.9MB/s eta 0:00:01\r\u001b[K     |█████████                       | 563kB 7.9MB/s eta 0:00:01\r\u001b[K     |█████████▏                      | 573kB 7.9MB/s eta 0:00:01\r\u001b[K     |█████████▎                      | 583kB 7.9MB/s eta 0:00:01\r\u001b[K     |█████████▌                      | 593kB 7.9MB/s eta 0:00:01\r\u001b[K     |█████████▋                      | 604kB 7.9MB/s eta 0:00:01\r\u001b[K     |█████████▊                      | 614kB 7.9MB/s eta 0:00:01\r\u001b[K     |██████████                      | 624kB 7.9MB/s eta 0:00:01\r\u001b[K     |██████████                      | 634kB 7.9MB/s eta 0:00:01\r\u001b[K     |██████████▎                     | 645kB 7.9MB/s eta 0:00:01\r\u001b[K     |██████████▍                     | 655kB 7.9MB/s eta 0:00:01\r\u001b[K     |██████████▋                     | 665kB 7.9MB/s eta 0:00:01\r\u001b[K     |██████████▊                     | 675kB 7.9MB/s eta 0:00:01\r\u001b[K     |███████████                     | 686kB 7.9MB/s eta 0:00:01\r\u001b[K     |███████████                     | 696kB 7.9MB/s eta 0:00:01\r\u001b[K     |███████████▎                    | 706kB 7.9MB/s eta 0:00:01\r\u001b[K     |███████████▍                    | 716kB 7.9MB/s eta 0:00:01\r\u001b[K     |███████████▋                    | 727kB 7.9MB/s eta 0:00:01\r\u001b[K     |███████████▊                    | 737kB 7.9MB/s eta 0:00:01\r\u001b[K     |████████████                    | 747kB 7.9MB/s eta 0:00:01\r\u001b[K     |████████████                    | 757kB 7.9MB/s eta 0:00:01\r\u001b[K     |████████████▏                   | 768kB 7.9MB/s eta 0:00:01\r\u001b[K     |████████████▍                   | 778kB 7.9MB/s eta 0:00:01\r\u001b[K     |████████████▌                   | 788kB 7.9MB/s eta 0:00:01\r\u001b[K     |████████████▊                   | 798kB 7.9MB/s eta 0:00:01\r\u001b[K     |████████████▉                   | 808kB 7.9MB/s eta 0:00:01\r\u001b[K     |█████████████                   | 819kB 7.9MB/s eta 0:00:01\r\u001b[K     |█████████████▏                  | 829kB 7.9MB/s eta 0:00:01\r\u001b[K     |█████████████▍                  | 839kB 7.9MB/s eta 0:00:01\r\u001b[K     |█████████████▌                  | 849kB 7.9MB/s eta 0:00:01\r\u001b[K     |█████████████▊                  | 860kB 7.9MB/s eta 0:00:01\r\u001b[K     |█████████████▉                  | 870kB 7.9MB/s eta 0:00:01\r\u001b[K     |██████████████                  | 880kB 7.9MB/s eta 0:00:01\r\u001b[K     |██████████████▏                 | 890kB 7.9MB/s eta 0:00:01\r\u001b[K     |██████████████▍                 | 901kB 7.9MB/s eta 0:00:01\r\u001b[K     |██████████████▌                 | 911kB 7.9MB/s eta 0:00:01\r\u001b[K     |██████████████▋                 | 921kB 7.9MB/s eta 0:00:01\r\u001b[K     |██████████████▉                 | 931kB 7.9MB/s eta 0:00:01\r\u001b[K     |███████████████                 | 942kB 7.9MB/s eta 0:00:01\r\u001b[K     |███████████████▏                | 952kB 7.9MB/s eta 0:00:01\r\u001b[K     |███████████████▎                | 962kB 7.9MB/s eta 0:00:01\r\u001b[K     |███████████████▌                | 972kB 7.9MB/s eta 0:00:01\r\u001b[K     |███████████████▋                | 983kB 7.9MB/s eta 0:00:01\r\u001b[K     |███████████████▉                | 993kB 7.9MB/s eta 0:00:01\r\u001b[K     |████████████████                | 1.0MB 7.9MB/s eta 0:00:01\r\u001b[K     |████████████████▏               | 1.0MB 7.9MB/s eta 0:00:01\r\u001b[K     |████████████████▎               | 1.0MB 7.9MB/s eta 0:00:01\r\u001b[K     |████████████████▌               | 1.0MB 7.9MB/s eta 0:00:01\r\u001b[K     |████████████████▋               | 1.0MB 7.9MB/s eta 0:00:01\r\u001b[K     |████████████████▉               | 1.1MB 7.9MB/s eta 0:00:01\r\u001b[K     |█████████████████               | 1.1MB 7.9MB/s eta 0:00:01\r\u001b[K     |█████████████████               | 1.1MB 7.9MB/s eta 0:00:01\r\u001b[K     |█████████████████▎              | 1.1MB 7.9MB/s eta 0:00:01\r\u001b[K     |█████████████████▍              | 1.1MB 7.9MB/s eta 0:00:01\r\u001b[K     |█████████████████▋              | 1.1MB 7.9MB/s eta 0:00:01\r\u001b[K     |█████████████████▊              | 1.1MB 7.9MB/s eta 0:00:01\r\u001b[K     |██████████████████              | 1.1MB 7.9MB/s eta 0:00:01\r\u001b[K     |██████████████████              | 1.1MB 7.9MB/s eta 0:00:01\r\u001b[K     |██████████████████▎             | 1.1MB 7.9MB/s eta 0:00:01\r\u001b[K     |██████████████████▍             | 1.2MB 7.9MB/s eta 0:00:01\r\u001b[K     |██████████████████▋             | 1.2MB 7.9MB/s eta 0:00:01\r\u001b[K     |██████████████████▊             | 1.2MB 7.9MB/s eta 0:00:01\r\u001b[K     |███████████████████             | 1.2MB 7.9MB/s eta 0:00:01\r\u001b[K     |███████████████████             | 1.2MB 7.9MB/s eta 0:00:01\r\u001b[K     |███████████████████▎            | 1.2MB 7.9MB/s eta 0:00:01\r\u001b[K     |███████████████████▍            | 1.2MB 7.9MB/s eta 0:00:01\r\u001b[K     |███████████████████▌            | 1.2MB 7.9MB/s eta 0:00:01\r\u001b[K     |███████████████████▊            | 1.2MB 7.9MB/s eta 0:00:01\r\u001b[K     |███████████████████▉            | 1.2MB 7.9MB/s eta 0:00:01\r\u001b[K     |████████████████████            | 1.3MB 7.9MB/s eta 0:00:01\r\u001b[K     |████████████████████▏           | 1.3MB 7.9MB/s eta 0:00:01\r\u001b[K     |████████████████████▍           | 1.3MB 7.9MB/s eta 0:00:01\r\u001b[K     |████████████████████▌           | 1.3MB 7.9MB/s eta 0:00:01\r\u001b[K     |████████████████████▊           | 1.3MB 7.9MB/s eta 0:00:01\r\u001b[K     |████████████████████▉           | 1.3MB 7.9MB/s eta 0:00:01\r\u001b[K     |█████████████████████           | 1.3MB 7.9MB/s eta 0:00:01\r\u001b[K     |█████████████████████▏          | 1.3MB 7.9MB/s eta 0:00:01\r\u001b[K     |█████████████████████▍          | 1.3MB 7.9MB/s eta 0:00:01\r\u001b[K     |█████████████████████▌          | 1.4MB 7.9MB/s eta 0:00:01\r\u001b[K     |█████████████████████▊          | 1.4MB 7.9MB/s eta 0:00:01\r\u001b[K     |█████████████████████▉          | 1.4MB 7.9MB/s eta 0:00:01\r\u001b[K     |██████████████████████          | 1.4MB 7.9MB/s eta 0:00:01\r\u001b[K     |██████████████████████▏         | 1.4MB 7.9MB/s eta 0:00:01\r\u001b[K     |██████████████████████▎         | 1.4MB 7.9MB/s eta 0:00:01\r\u001b[K     |██████████████████████▌         | 1.4MB 7.9MB/s eta 0:00:01\r\u001b[K     |██████████████████████▋         | 1.4MB 7.9MB/s eta 0:00:01\r\u001b[K     |██████████████████████▉         | 1.4MB 7.9MB/s eta 0:00:01\r\u001b[K     |███████████████████████         | 1.4MB 7.9MB/s eta 0:00:01\r\u001b[K     |███████████████████████▏        | 1.5MB 7.9MB/s eta 0:00:01\r\u001b[K     |███████████████████████▎        | 1.5MB 7.9MB/s eta 0:00:01\r\u001b[K     |███████████████████████▌        | 1.5MB 7.9MB/s eta 0:00:01\r\u001b[K     |███████████████████████▋        | 1.5MB 7.9MB/s eta 0:00:01\r\u001b[K     |███████████████████████▉        | 1.5MB 7.9MB/s eta 0:00:01\r\u001b[K     |████████████████████████        | 1.5MB 7.9MB/s eta 0:00:01\r\u001b[K     |████████████████████████▏       | 1.5MB 7.9MB/s eta 0:00:01\r\u001b[K     |████████████████████████▎       | 1.5MB 7.9MB/s eta 0:00:01\r\u001b[K     |████████████████████████▍       | 1.5MB 7.9MB/s eta 0:00:01\r\u001b[K     |████████████████████████▋       | 1.5MB 7.9MB/s eta 0:00:01\r\u001b[K     |████████████████████████▊       | 1.6MB 7.9MB/s eta 0:00:01\r\u001b[K     |█████████████████████████       | 1.6MB 7.9MB/s eta 0:00:01\r\u001b[K     |█████████████████████████       | 1.6MB 7.9MB/s eta 0:00:01\r\u001b[K     |█████████████████████████▎      | 1.6MB 7.9MB/s eta 0:00:01\r\u001b[K     |█████████████████████████▍      | 1.6MB 7.9MB/s eta 0:00:01\r\u001b[K     |█████████████████████████▋      | 1.6MB 7.9MB/s eta 0:00:01\r\u001b[K     |█████████████████████████▊      | 1.6MB 7.9MB/s eta 0:00:01\r\u001b[K     |██████████████████████████      | 1.6MB 7.9MB/s eta 0:00:01\r\u001b[K     |██████████████████████████      | 1.6MB 7.9MB/s eta 0:00:01\r\u001b[K     |██████████████████████████▎     | 1.6MB 7.9MB/s eta 0:00:01\r\u001b[K     |██████████████████████████▍     | 1.7MB 7.9MB/s eta 0:00:01\r\u001b[K     |██████████████████████████▋     | 1.7MB 7.9MB/s eta 0:00:01\r\u001b[K     |██████████████████████████▊     | 1.7MB 7.9MB/s eta 0:00:01\r\u001b[K     |██████████████████████████▉     | 1.7MB 7.9MB/s eta 0:00:01\r\u001b[K     |███████████████████████████     | 1.7MB 7.9MB/s eta 0:00:01\r\u001b[K     |███████████████████████████▏    | 1.7MB 7.9MB/s eta 0:00:01\r\u001b[K     |███████████████████████████▍    | 1.7MB 7.9MB/s eta 0:00:01\r\u001b[K     |███████████████████████████▌    | 1.7MB 7.9MB/s eta 0:00:01\r\u001b[K     |███████████████████████████▊    | 1.7MB 7.9MB/s eta 0:00:01\r\u001b[K     |███████████████████████████▉    | 1.8MB 7.9MB/s eta 0:00:01\r\u001b[K     |████████████████████████████    | 1.8MB 7.9MB/s eta 0:00:01\r\u001b[K     |████████████████████████████▏   | 1.8MB 7.9MB/s eta 0:00:01\r\u001b[K     |████████████████████████████▍   | 1.8MB 7.9MB/s eta 0:00:01\r\u001b[K     |████████████████████████████▌   | 1.8MB 7.9MB/s eta 0:00:01\r\u001b[K     |████████████████████████████▊   | 1.8MB 7.9MB/s eta 0:00:01\r\u001b[K     |████████████████████████████▉   | 1.8MB 7.9MB/s eta 0:00:01\r\u001b[K     |█████████████████████████████   | 1.8MB 7.9MB/s eta 0:00:01\r\u001b[K     |█████████████████████████████▏  | 1.8MB 7.9MB/s eta 0:00:01\r\u001b[K     |█████████████████████████████▎  | 1.8MB 7.9MB/s eta 0:00:01\r\u001b[K     |█████████████████████████████▌  | 1.9MB 7.9MB/s eta 0:00:01\r\u001b[K     |█████████████████████████████▋  | 1.9MB 7.9MB/s eta 0:00:01\r\u001b[K     |█████████████████████████████▉  | 1.9MB 7.9MB/s eta 0:00:01\r\u001b[K     |██████████████████████████████  | 1.9MB 7.9MB/s eta 0:00:01\r\u001b[K     |██████████████████████████████▏ | 1.9MB 7.9MB/s eta 0:00:01\r\u001b[K     |██████████████████████████████▎ | 1.9MB 7.9MB/s eta 0:00:01\r\u001b[K     |██████████████████████████████▌ | 1.9MB 7.9MB/s eta 0:00:01\r\u001b[K     |██████████████████████████████▋ | 1.9MB 7.9MB/s eta 0:00:01\r\u001b[K     |██████████████████████████████▉ | 1.9MB 7.9MB/s eta 0:00:01\r\u001b[K     |███████████████████████████████ | 1.9MB 7.9MB/s eta 0:00:01\r\u001b[K     |███████████████████████████████▏| 2.0MB 7.9MB/s eta 0:00:01\r\u001b[K     |███████████████████████████████▎| 2.0MB 7.9MB/s eta 0:00:01\r\u001b[K     |███████████████████████████████▍| 2.0MB 7.9MB/s eta 0:00:01\r\u001b[K     |███████████████████████████████▋| 2.0MB 7.9MB/s eta 0:00:01\r\u001b[K     |███████████████████████████████▊| 2.0MB 7.9MB/s eta 0:00:01\r\u001b[K     |████████████████████████████████| 2.0MB 7.9MB/s eta 0:00:01\r\u001b[K     |████████████████████████████████| 2.0MB 7.9MB/s \n",
            "\u001b[?25hRequirement already satisfied: opencv-python in /usr/local/lib/python3.6/dist-packages (from facenet) (4.1.2.30)\n",
            "Requirement already satisfied: matplotlib in /usr/local/lib/python3.6/dist-packages (from facenet) (3.2.1)\n",
            "Requirement already satisfied: requests in /usr/local/lib/python3.6/dist-packages (from facenet) (2.23.0)\n",
            "Requirement already satisfied: tensorflow in /usr/local/lib/python3.6/dist-packages (from facenet) (2.2.0rc4)\n",
            "Requirement already satisfied: scipy in /usr/local/lib/python3.6/dist-packages (from facenet) (1.4.1)\n",
            "Requirement already satisfied: psutil in /usr/local/lib/python3.6/dist-packages (from facenet) (5.4.8)\n",
            "Requirement already satisfied: h5py in /usr/local/lib/python3.6/dist-packages (from facenet) (2.10.0)\n",
            "Requirement already satisfied: scikit-learn in /usr/local/lib/python3.6/dist-packages (from facenet) (0.22.2.post1)\n",
            "Requirement already satisfied: Pillow in /usr/local/lib/python3.6/dist-packages (from facenet) (7.0.0)\n",
            "Requirement already satisfied: numpy>=1.11.3 in /usr/local/lib/python3.6/dist-packages (from opencv-python->facenet) (1.18.4)\n",
            "Requirement already satisfied: kiwisolver>=1.0.1 in /usr/local/lib/python3.6/dist-packages (from matplotlib->facenet) (1.2.0)\n",
            "Requirement already satisfied: cycler>=0.10 in /usr/local/lib/python3.6/dist-packages (from matplotlib->facenet) (0.10.0)\n",
            "Requirement already satisfied: pyparsing!=2.0.4,!=2.1.2,!=2.1.6,>=2.0.1 in /usr/local/lib/python3.6/dist-packages (from matplotlib->facenet) (2.4.7)\n",
            "Requirement already satisfied: python-dateutil>=2.1 in /usr/local/lib/python3.6/dist-packages (from matplotlib->facenet) (2.8.1)\n",
            "Requirement already satisfied: idna<3,>=2.5 in /usr/local/lib/python3.6/dist-packages (from requests->facenet) (2.9)\n",
            "Requirement already satisfied: chardet<4,>=3.0.2 in /usr/local/lib/python3.6/dist-packages (from requests->facenet) (3.0.4)\n",
            "Requirement already satisfied: urllib3!=1.25.0,!=1.25.1,<1.26,>=1.21.1 in /usr/local/lib/python3.6/dist-packages (from requests->facenet) (1.24.3)\n",
            "Requirement already satisfied: certifi>=2017.4.17 in /usr/local/lib/python3.6/dist-packages (from requests->facenet) (2020.4.5.1)\n",
            "Requirement already satisfied: tensorflow-estimator<2.3.0,>=2.2.0 in /usr/local/lib/python3.6/dist-packages (from tensorflow->facenet) (2.2.0)\n",
            "Requirement already satisfied: opt-einsum>=2.3.2 in /usr/local/lib/python3.6/dist-packages (from tensorflow->facenet) (3.2.1)\n",
            "Requirement already satisfied: wrapt>=1.11.1 in /usr/local/lib/python3.6/dist-packages (from tensorflow->facenet) (1.12.1)\n",
            "Requirement already satisfied: keras-preprocessing>=1.1.0 in /usr/local/lib/python3.6/dist-packages (from tensorflow->facenet) (1.1.0)\n",
            "Requirement already satisfied: six>=1.12.0 in /usr/local/lib/python3.6/dist-packages (from tensorflow->facenet) (1.12.0)\n",
            "Requirement already satisfied: protobuf>=3.8.0 in /usr/local/lib/python3.6/dist-packages (from tensorflow->facenet) (3.10.0)\n",
            "Requirement already satisfied: termcolor>=1.1.0 in /usr/local/lib/python3.6/dist-packages (from tensorflow->facenet) (1.1.0)\n",
            "Requirement already satisfied: grpcio>=1.8.6 in /usr/local/lib/python3.6/dist-packages (from tensorflow->facenet) (1.28.1)\n",
            "Requirement already satisfied: gast==0.3.3 in /usr/local/lib/python3.6/dist-packages (from tensorflow->facenet) (0.3.3)\n",
            "Requirement already satisfied: tensorboard<2.3.0,>=2.2.0 in /usr/local/lib/python3.6/dist-packages (from tensorflow->facenet) (2.2.1)\n",
            "Requirement already satisfied: astunparse==1.6.3 in /usr/local/lib/python3.6/dist-packages (from tensorflow->facenet) (1.6.3)\n",
            "Requirement already satisfied: absl-py>=0.7.0 in /usr/local/lib/python3.6/dist-packages (from tensorflow->facenet) (0.9.0)\n",
            "Requirement already satisfied: wheel>=0.26; python_version >= \"3\" in /usr/local/lib/python3.6/dist-packages (from tensorflow->facenet) (0.34.2)\n",
            "Requirement already satisfied: google-pasta>=0.1.8 in /usr/local/lib/python3.6/dist-packages (from tensorflow->facenet) (0.2.0)\n",
            "Requirement already satisfied: joblib>=0.11 in /usr/local/lib/python3.6/dist-packages (from scikit-learn->facenet) (0.14.1)\n",
            "Requirement already satisfied: setuptools in /usr/local/lib/python3.6/dist-packages (from protobuf>=3.8.0->tensorflow->facenet) (46.1.3)\n",
            "Requirement already satisfied: tensorboard-plugin-wit>=1.6.0 in /usr/local/lib/python3.6/dist-packages (from tensorboard<2.3.0,>=2.2.0->tensorflow->facenet) (1.6.0.post3)\n",
            "Requirement already satisfied: google-auth<2,>=1.6.3 in /usr/local/lib/python3.6/dist-packages (from tensorboard<2.3.0,>=2.2.0->tensorflow->facenet) (1.7.2)\n",
            "Requirement already satisfied: werkzeug>=0.11.15 in /usr/local/lib/python3.6/dist-packages (from tensorboard<2.3.0,>=2.2.0->tensorflow->facenet) (1.0.1)\n",
            "Requirement already satisfied: google-auth-oauthlib<0.5,>=0.4.1 in /usr/local/lib/python3.6/dist-packages (from tensorboard<2.3.0,>=2.2.0->tensorflow->facenet) (0.4.1)\n",
            "Requirement already satisfied: markdown>=2.6.8 in /usr/local/lib/python3.6/dist-packages (from tensorboard<2.3.0,>=2.2.0->tensorflow->facenet) (3.2.1)\n",
            "Requirement already satisfied: pyasn1-modules>=0.2.1 in /usr/local/lib/python3.6/dist-packages (from google-auth<2,>=1.6.3->tensorboard<2.3.0,>=2.2.0->tensorflow->facenet) (0.2.8)\n",
            "Requirement already satisfied: cachetools<3.2,>=2.0.0 in /usr/local/lib/python3.6/dist-packages (from google-auth<2,>=1.6.3->tensorboard<2.3.0,>=2.2.0->tensorflow->facenet) (3.1.1)\n",
            "Requirement already satisfied: rsa<4.1,>=3.1.4 in /usr/local/lib/python3.6/dist-packages (from google-auth<2,>=1.6.3->tensorboard<2.3.0,>=2.2.0->tensorflow->facenet) (4.0)\n",
            "Requirement already satisfied: requests-oauthlib>=0.7.0 in /usr/local/lib/python3.6/dist-packages (from google-auth-oauthlib<0.5,>=0.4.1->tensorboard<2.3.0,>=2.2.0->tensorflow->facenet) (1.3.0)\n",
            "Requirement already satisfied: pyasn1<0.5.0,>=0.4.6 in /usr/local/lib/python3.6/dist-packages (from pyasn1-modules>=0.2.1->google-auth<2,>=1.6.3->tensorboard<2.3.0,>=2.2.0->tensorflow->facenet) (0.4.8)\n",
            "Requirement already satisfied: oauthlib>=3.0.0 in /usr/local/lib/python3.6/dist-packages (from requests-oauthlib>=0.7.0->google-auth-oauthlib<0.5,>=0.4.1->tensorboard<2.3.0,>=2.2.0->tensorflow->facenet) (3.1.0)\n",
            "Installing collected packages: facenet\n",
            "Successfully installed facenet-1.0.5\n"
          ],
          "name": "stdout"
        }
      ]
    },
    {
      "cell_type": "code",
      "metadata": {
        "id": "BvHLir_340GD",
        "colab_type": "code",
        "colab": {}
      },
      "source": [
        "import numpy as np\n",
        "# save np.load\n",
        "np_load_old = np.load\n",
        "\n",
        "# modify the default parameters of np.load\n",
        "np.load = lambda *a,**k: np_load_old(*a, allow_pickle=True, **k)"
      ],
      "execution_count": 0,
      "outputs": []
    },
    {
      "cell_type": "code",
      "metadata": {
        "id": "3ESWoSzY8_Tg",
        "colab_type": "code",
        "outputId": "839cf44d-d062-4802-bdfd-962864aed150",
        "colab": {
          "base_uri": "https://localhost:8080/",
          "height": 55
        }
      },
      "source": [
        "#from __future__ import absolute_import\n",
        "#from __future__ import division\n",
        "#from __future__ import print_function\n",
        "\n",
        "from scipy import misc\n",
        "import tensorflow as tf\n",
        "import numpy as np\n",
        "import sys\n",
        "import os\n",
        "import copy\n",
        "import argparse\n",
        "import facenet\n",
        "\n",
        "sys.path.insert(0,'/content/drive/My Drive/DATASET_face/facenet-master/src/align/')\n",
        "import detect_face\n",
        "\n",
        "def main():\n",
        "      \n",
        "    image_files = '/content/drive/My Drive/DATASET_face/train/ben_afflek/'  \n",
        "    image_size = 160\n",
        "    margin = 44\n",
        "    gpu_memory_fraction = 1.0\n",
        "    images = load_and_align_data(image_files, image_size, margin, gpu_memory_fraction)\n",
        "    with tf.Graph().as_default():\n",
        "\n",
        "        with tf.compat.v1.Session() as sess:\n",
        "      \n",
        "            # Load the model\n",
        "            facenet.load_model(Model_path)\n",
        "    \n",
        "            # Get input and output tensors\n",
        "            images_placeholder = tf.get_default_graph().get_tensor_by_name(\"input:0\")\n",
        "            embeddings = tf.get_default_graph().get_tensor_by_name(\"embeddings:0\")\n",
        "            phase_train_placeholder = tf.get_default_graph().get_tensor_by_name(\"phase_train:0\")\n",
        "\n",
        "            # Run forward pass to calculate embeddings\n",
        "            feed_dict = { images_placeholder: images, phase_train_placeholder:False }\n",
        "            emb = sess.run(embeddings, feed_dict=feed_dict)\n",
        "            print(emb)\n",
        "            \n",
        "            \n",
        "            nrof_images = len(image_files)\n",
        "\n",
        "            print('Images:')\n",
        "            for i in range(nrof_images):\n",
        "                print('%1d: %s' % (i, image_files[i]))\n",
        "            print('')\n",
        "            \n",
        "            # Print distance matrix\n",
        "            print('Distance matrix')\n",
        "            print('    ', end='')\n",
        "            for i in range(nrof_images):\n",
        "                print('    %1d     ' % i, end='')\n",
        "            print('')\n",
        "            for i in range(nrof_images):\n",
        "                print('%1d  ' % i, end='')\n",
        "                for j in range(nrof_images):\n",
        "                    dist = np.sqrt(np.sum(np.square(np.subtract(emb[i,:], emb[j,:]))))\n",
        "                    print('  %1.4f  ' % dist, end='')\n",
        "                print('')\n",
        "            \n",
        "            \n",
        "def load_and_align_data(image_paths, image_size, margin, gpu_memory_fraction):\n",
        "\n",
        "    minsize = 20 # minimum size of face\n",
        "    threshold = [ 0.6, 0.7, 0.7 ]  # three steps's threshold\n",
        "    factor = 0.709 # scale factor\n",
        "    \n",
        "    print('Creating networks and loading parameters')\n",
        "    with tf.Graph().as_default():\n",
        "        gpu_options = tf.compat.v1.GPUOptions(per_process_gpu_memory_fraction=gpu_memory_fraction)\n",
        "        sess = tf.compat.v1.Session(config=tf.compat.v1.ConfigProto(gpu_options=gpu_options, log_device_placement=False))\n",
        "        with sess.as_default():\n",
        "            pnet, rnet, onet = detect_face.create_mtcnn(sess, None)\n",
        "  \n",
        "    tmp_image_paths=copy.copy(image_paths)\n",
        "    img_list = []\n",
        "    for image in tmp_image_paths:\n",
        "        img = misc.imread(os.path.expanduser(image), mode='RGB')\n",
        "        img_size = np.asarray(img.shape)[0:2]\n",
        "        bounding_boxes, _ = detect_face.detect_face(img, minsize, pnet, rnet, onet, threshold, factor)\n",
        "        #print(bounding_boxes)\n",
        "        if len(bounding_boxes) < 1:\n",
        "          image_paths.remove(image)\n",
        "          print(\"can't detect face, remove \", image)\n",
        "          continue\n",
        "        det = np.squeeze(bounding_boxes[0,0:4])\n",
        "        bb = np.zeros(4, dtype=np.int32)\n",
        "        bb[0] = np.maximum(det[0]-margin/2, 0)\n",
        "        bb[1] = np.maximum(det[1]-margin/2, 0)\n",
        "        bb[2] = np.minimum(det[2]+margin/2, img_size[1])\n",
        "        bb[3] = np.minimum(det[3]+margin/2, img_size[0])\n",
        "        cropped = img[bb[1]:bb[3],bb[0]:bb[2],:]\n",
        "        aligned = misc.imresize(cropped, (image_size, image_size), interp='bilinear')\n",
        "        #print(aligned)\n",
        "        prewhitened = facenet.prewhiten(aligned)\n",
        "        img_list.append(prewhitened)\n",
        "    #print(bounding_boxes)    \n",
        "    #print(aligned)\n",
        "    images = np.stack(img_list)\n",
        "    return images\n",
        "'''\n",
        "def parse_arguments():\n",
        "    parser = argparse.ArgumentParser()\n",
        "    \n",
        "    parser.add_argument('model', type=str, \n",
        "        help='Could be either a directory containing the meta_file and ckpt_file or a model protobuf (.pb) file')\n",
        "    parser.add_argument('image_files', type=str, nargs='+', help='Images to compare')\n",
        "    parser.add_argument('--image_size', type=int,\n",
        "        help='Image size (height, width) in pixels.', default=160)\n",
        "    parser.add_argument('--margin', type=int,\n",
        "        help='Margin for the crop around the bounding box (height, width) in pixels.', default=44)\n",
        "    parser.add_argument('--gpu_memory_fraction', type=float,\n",
        "        help='Upper bound on the amount of GPU memory that will be used by the process.', default=1.0)\n",
        "    return parser.parse_args(argv)\n",
        "'''\n"
      ],
      "execution_count": 0,
      "outputs": [
        {
          "output_type": "execute_result",
          "data": {
            "text/plain": [
              "\"\\ndef parse_arguments():\\n    parser = argparse.ArgumentParser()\\n    \\n    parser.add_argument('model', type=str, \\n        help='Could be either a directory containing the meta_file and ckpt_file or a model protobuf (.pb) file')\\n    parser.add_argument('image_files', type=str, nargs='+', help='Images to compare')\\n    parser.add_argument('--image_size', type=int,\\n        help='Image size (height, width) in pixels.', default=160)\\n    parser.add_argument('--margin', type=int,\\n        help='Margin for the crop around the bounding box (height, width) in pixels.', default=44)\\n    parser.add_argument('--gpu_memory_fraction', type=float,\\n        help='Upper bound on the amount of GPU memory that will be used by the process.', default=1.0)\\n    return parser.parse_args(argv)\\n\""
            ]
          },
          "metadata": {
            "tags": []
          },
          "execution_count": 8
        }
      ]
    },
    {
      "cell_type": "code",
      "metadata": {
        "id": "dvc8uIc6d9cp",
        "colab_type": "code",
        "outputId": "bdb02bb7-4697-4caf-fb52-afa28f93d0f5",
        "colab": {
          "base_uri": "https://localhost:8080/",
          "height": 401
        }
      },
      "source": [
        "main()"
      ],
      "execution_count": 0,
      "outputs": [
        {
          "output_type": "stream",
          "text": [
            "Creating networks and loading parameters\n",
            "WARNING:tensorflow:From /usr/local/lib/python3.6/dist-packages/tensorflow/python/ops/resource_variable_ops.py:1666: calling BaseResourceVariable.__init__ (from tensorflow.python.ops.resource_variable_ops) with constraint is deprecated and will be removed in a future version.\n",
            "Instructions for updating:\n",
            "If using Keras pass *_constraint arguments to layers.\n"
          ],
          "name": "stdout"
        },
        {
          "output_type": "error",
          "ename": "AttributeError",
          "evalue": "ignored",
          "traceback": [
            "\u001b[0;31m---------------------------------------------------------------------------\u001b[0m",
            "\u001b[0;31mAttributeError\u001b[0m                            Traceback (most recent call last)",
            "\u001b[0;32m<ipython-input-9-263240bbee7e>\u001b[0m in \u001b[0;36m<module>\u001b[0;34m()\u001b[0m\n\u001b[0;32m----> 1\u001b[0;31m \u001b[0mmain\u001b[0m\u001b[0;34m(\u001b[0m\u001b[0;34m)\u001b[0m\u001b[0;34m\u001b[0m\u001b[0;34m\u001b[0m\u001b[0m\n\u001b[0m",
            "\u001b[0;32m<ipython-input-8-9a34e5df81bc>\u001b[0m in \u001b[0;36mmain\u001b[0;34m()\u001b[0m\n\u001b[1;32m     18\u001b[0m     \u001b[0mmargin\u001b[0m \u001b[0;34m=\u001b[0m \u001b[0;36m44\u001b[0m\u001b[0;34m\u001b[0m\u001b[0;34m\u001b[0m\u001b[0m\n\u001b[1;32m     19\u001b[0m     \u001b[0mgpu_memory_fraction\u001b[0m \u001b[0;34m=\u001b[0m \u001b[0;36m1.0\u001b[0m\u001b[0;34m\u001b[0m\u001b[0;34m\u001b[0m\u001b[0m\n\u001b[0;32m---> 20\u001b[0;31m     \u001b[0mimages\u001b[0m \u001b[0;34m=\u001b[0m \u001b[0mload_and_align_data\u001b[0m\u001b[0;34m(\u001b[0m\u001b[0mimage_files\u001b[0m\u001b[0;34m,\u001b[0m \u001b[0mimage_size\u001b[0m\u001b[0;34m,\u001b[0m \u001b[0mmargin\u001b[0m\u001b[0;34m,\u001b[0m \u001b[0mgpu_memory_fraction\u001b[0m\u001b[0;34m)\u001b[0m\u001b[0;34m\u001b[0m\u001b[0;34m\u001b[0m\u001b[0m\n\u001b[0m\u001b[1;32m     21\u001b[0m     \u001b[0;32mwith\u001b[0m \u001b[0mtf\u001b[0m\u001b[0;34m.\u001b[0m\u001b[0mGraph\u001b[0m\u001b[0;34m(\u001b[0m\u001b[0;34m)\u001b[0m\u001b[0;34m.\u001b[0m\u001b[0mas_default\u001b[0m\u001b[0;34m(\u001b[0m\u001b[0;34m)\u001b[0m\u001b[0;34m:\u001b[0m\u001b[0;34m\u001b[0m\u001b[0;34m\u001b[0m\u001b[0m\n\u001b[1;32m     22\u001b[0m \u001b[0;34m\u001b[0m\u001b[0m\n",
            "\u001b[0;32m<ipython-input-8-9a34e5df81bc>\u001b[0m in \u001b[0;36mload_and_align_data\u001b[0;34m(image_paths, image_size, margin, gpu_memory_fraction)\u001b[0m\n\u001b[1;32m     69\u001b[0m         \u001b[0msess\u001b[0m \u001b[0;34m=\u001b[0m \u001b[0mtf\u001b[0m\u001b[0;34m.\u001b[0m\u001b[0mcompat\u001b[0m\u001b[0;34m.\u001b[0m\u001b[0mv1\u001b[0m\u001b[0;34m.\u001b[0m\u001b[0mSession\u001b[0m\u001b[0;34m(\u001b[0m\u001b[0mconfig\u001b[0m\u001b[0;34m=\u001b[0m\u001b[0mtf\u001b[0m\u001b[0;34m.\u001b[0m\u001b[0mcompat\u001b[0m\u001b[0;34m.\u001b[0m\u001b[0mv1\u001b[0m\u001b[0;34m.\u001b[0m\u001b[0mConfigProto\u001b[0m\u001b[0;34m(\u001b[0m\u001b[0mgpu_options\u001b[0m\u001b[0;34m=\u001b[0m\u001b[0mgpu_options\u001b[0m\u001b[0;34m,\u001b[0m \u001b[0mlog_device_placement\u001b[0m\u001b[0;34m=\u001b[0m\u001b[0;32mFalse\u001b[0m\u001b[0;34m)\u001b[0m\u001b[0;34m)\u001b[0m\u001b[0;34m\u001b[0m\u001b[0;34m\u001b[0m\u001b[0m\n\u001b[1;32m     70\u001b[0m         \u001b[0;32mwith\u001b[0m \u001b[0msess\u001b[0m\u001b[0;34m.\u001b[0m\u001b[0mas_default\u001b[0m\u001b[0;34m(\u001b[0m\u001b[0;34m)\u001b[0m\u001b[0;34m:\u001b[0m\u001b[0;34m\u001b[0m\u001b[0;34m\u001b[0m\u001b[0m\n\u001b[0;32m---> 71\u001b[0;31m             \u001b[0mpnet\u001b[0m\u001b[0;34m,\u001b[0m \u001b[0mrnet\u001b[0m\u001b[0;34m,\u001b[0m \u001b[0monet\u001b[0m \u001b[0;34m=\u001b[0m \u001b[0mdetect_face\u001b[0m\u001b[0;34m.\u001b[0m\u001b[0mcreate_mtcnn\u001b[0m\u001b[0;34m(\u001b[0m\u001b[0msess\u001b[0m\u001b[0;34m,\u001b[0m \u001b[0;32mNone\u001b[0m\u001b[0;34m)\u001b[0m\u001b[0;34m\u001b[0m\u001b[0;34m\u001b[0m\u001b[0m\n\u001b[0m\u001b[1;32m     72\u001b[0m \u001b[0;34m\u001b[0m\u001b[0m\n\u001b[1;32m     73\u001b[0m     \u001b[0mtmp_image_paths\u001b[0m\u001b[0;34m=\u001b[0m\u001b[0mcopy\u001b[0m\u001b[0;34m.\u001b[0m\u001b[0mcopy\u001b[0m\u001b[0;34m(\u001b[0m\u001b[0mimage_paths\u001b[0m\u001b[0;34m)\u001b[0m\u001b[0;34m\u001b[0m\u001b[0;34m\u001b[0m\u001b[0m\n",
            "\u001b[0;32m/content/drive/My Drive/DATASET_face/facenet-master/src/align/detect_face.py\u001b[0m in \u001b[0;36mcreate_mtcnn\u001b[0;34m(sess, model_path)\u001b[0m\n\u001b[1;32m    284\u001b[0m     \u001b[0;32mwith\u001b[0m \u001b[0mtf\u001b[0m\u001b[0;34m.\u001b[0m\u001b[0mcompat\u001b[0m\u001b[0;34m.\u001b[0m\u001b[0mv1\u001b[0m\u001b[0;34m.\u001b[0m\u001b[0mvariable_scope\u001b[0m\u001b[0;34m(\u001b[0m\u001b[0;34m'rnet'\u001b[0m\u001b[0;34m)\u001b[0m\u001b[0;34m:\u001b[0m\u001b[0;34m\u001b[0m\u001b[0;34m\u001b[0m\u001b[0m\n\u001b[1;32m    285\u001b[0m         \u001b[0mdata\u001b[0m \u001b[0;34m=\u001b[0m \u001b[0mtf\u001b[0m\u001b[0;34m.\u001b[0m\u001b[0mcompat\u001b[0m\u001b[0;34m.\u001b[0m\u001b[0mv1\u001b[0m\u001b[0;34m.\u001b[0m\u001b[0mplaceholder\u001b[0m\u001b[0;34m(\u001b[0m\u001b[0mtf\u001b[0m\u001b[0;34m.\u001b[0m\u001b[0mfloat32\u001b[0m\u001b[0;34m,\u001b[0m \u001b[0;34m(\u001b[0m\u001b[0;32mNone\u001b[0m\u001b[0;34m,\u001b[0m\u001b[0;36m24\u001b[0m\u001b[0;34m,\u001b[0m\u001b[0;36m24\u001b[0m\u001b[0;34m,\u001b[0m\u001b[0;36m3\u001b[0m\u001b[0;34m)\u001b[0m\u001b[0;34m,\u001b[0m \u001b[0;34m'input'\u001b[0m\u001b[0;34m)\u001b[0m\u001b[0;34m\u001b[0m\u001b[0;34m\u001b[0m\u001b[0m\n\u001b[0;32m--> 286\u001b[0;31m         \u001b[0mrnet\u001b[0m \u001b[0;34m=\u001b[0m \u001b[0mRNet\u001b[0m\u001b[0;34m(\u001b[0m\u001b[0;34m{\u001b[0m\u001b[0;34m'data'\u001b[0m\u001b[0;34m:\u001b[0m\u001b[0mdata\u001b[0m\u001b[0;34m}\u001b[0m\u001b[0;34m)\u001b[0m\u001b[0;34m\u001b[0m\u001b[0;34m\u001b[0m\u001b[0m\n\u001b[0m\u001b[1;32m    287\u001b[0m         \u001b[0mrnet\u001b[0m\u001b[0;34m.\u001b[0m\u001b[0mload\u001b[0m\u001b[0;34m(\u001b[0m\u001b[0mos\u001b[0m\u001b[0;34m.\u001b[0m\u001b[0mpath\u001b[0m\u001b[0;34m.\u001b[0m\u001b[0mjoin\u001b[0m\u001b[0;34m(\u001b[0m\u001b[0mmodel_path\u001b[0m\u001b[0;34m,\u001b[0m \u001b[0;34m'det2.npy'\u001b[0m\u001b[0;34m)\u001b[0m\u001b[0;34m,\u001b[0m \u001b[0msess\u001b[0m\u001b[0;34m)\u001b[0m\u001b[0;34m\u001b[0m\u001b[0;34m\u001b[0m\u001b[0m\n\u001b[1;32m    288\u001b[0m     \u001b[0;32mwith\u001b[0m \u001b[0mtf\u001b[0m\u001b[0;34m.\u001b[0m\u001b[0mcompat\u001b[0m\u001b[0;34m.\u001b[0m\u001b[0mv1\u001b[0m\u001b[0;34m.\u001b[0m\u001b[0mvariable_scope\u001b[0m\u001b[0;34m(\u001b[0m\u001b[0;34m'onet'\u001b[0m\u001b[0;34m)\u001b[0m\u001b[0;34m:\u001b[0m\u001b[0;34m\u001b[0m\u001b[0;34m\u001b[0m\u001b[0m\n",
            "\u001b[0;32m/content/drive/My Drive/DATASET_face/facenet-master/src/align/detect_face.py\u001b[0m in \u001b[0;36m__init__\u001b[0;34m(self, inputs, trainable)\u001b[0m\n\u001b[1;32m     71\u001b[0m         \u001b[0mself\u001b[0m\u001b[0;34m.\u001b[0m\u001b[0mtrainable\u001b[0m \u001b[0;34m=\u001b[0m \u001b[0mtrainable\u001b[0m\u001b[0;34m\u001b[0m\u001b[0;34m\u001b[0m\u001b[0m\n\u001b[1;32m     72\u001b[0m \u001b[0;34m\u001b[0m\u001b[0m\n\u001b[0;32m---> 73\u001b[0;31m         \u001b[0mself\u001b[0m\u001b[0;34m.\u001b[0m\u001b[0msetup\u001b[0m\u001b[0;34m(\u001b[0m\u001b[0;34m)\u001b[0m\u001b[0;34m\u001b[0m\u001b[0;34m\u001b[0m\u001b[0m\n\u001b[0m\u001b[1;32m     74\u001b[0m \u001b[0;34m\u001b[0m\u001b[0m\n\u001b[1;32m     75\u001b[0m     \u001b[0;32mdef\u001b[0m \u001b[0msetup\u001b[0m\u001b[0;34m(\u001b[0m\u001b[0mself\u001b[0m\u001b[0;34m)\u001b[0m\u001b[0;34m:\u001b[0m\u001b[0;34m\u001b[0m\u001b[0;34m\u001b[0m\u001b[0m\n",
            "\u001b[0;32m/content/drive/My Drive/DATASET_face/facenet-master/src/align/detect_face.py\u001b[0m in \u001b[0;36msetup\u001b[0;34m(self)\u001b[0m\n\u001b[1;32m    243\u001b[0m              \u001b[0;34m.\u001b[0m\u001b[0mfc\u001b[0m\u001b[0;34m(\u001b[0m\u001b[0;36m128\u001b[0m\u001b[0;34m,\u001b[0m \u001b[0mrelu\u001b[0m\u001b[0;34m=\u001b[0m\u001b[0;32mFalse\u001b[0m\u001b[0;34m,\u001b[0m \u001b[0mname\u001b[0m\u001b[0;34m=\u001b[0m\u001b[0;34m'conv4'\u001b[0m\u001b[0;34m)\u001b[0m\u001b[0;34m\u001b[0m\u001b[0;34m\u001b[0m\u001b[0m\n\u001b[1;32m    244\u001b[0m              \u001b[0;34m.\u001b[0m\u001b[0mprelu\u001b[0m\u001b[0;34m(\u001b[0m\u001b[0mname\u001b[0m\u001b[0;34m=\u001b[0m\u001b[0;34m'prelu4'\u001b[0m\u001b[0;34m)\u001b[0m\u001b[0;34m\u001b[0m\u001b[0;34m\u001b[0m\u001b[0m\n\u001b[0;32m--> 245\u001b[0;31m              \u001b[0;34m.\u001b[0m\u001b[0mfc\u001b[0m\u001b[0;34m(\u001b[0m\u001b[0;36m2\u001b[0m\u001b[0;34m,\u001b[0m \u001b[0mrelu\u001b[0m\u001b[0;34m=\u001b[0m\u001b[0;32mFalse\u001b[0m\u001b[0;34m,\u001b[0m \u001b[0mname\u001b[0m\u001b[0;34m=\u001b[0m\u001b[0;34m'conv5-1'\u001b[0m\u001b[0;34m)\u001b[0m\u001b[0;34m\u001b[0m\u001b[0;34m\u001b[0m\u001b[0m\n\u001b[0m\u001b[1;32m    246\u001b[0m              .softmax(1,name='prob1'))\n\u001b[1;32m    247\u001b[0m \u001b[0;34m\u001b[0m\u001b[0m\n",
            "\u001b[0;32m/content/drive/My Drive/DATASET_face/facenet-master/src/align/detect_face.py\u001b[0m in \u001b[0;36mlayer_decorated\u001b[0;34m(self, *args, **kwargs)\u001b[0m\n\u001b[1;32m     49\u001b[0m             \u001b[0mlayer_input\u001b[0m \u001b[0;34m=\u001b[0m \u001b[0mlist\u001b[0m\u001b[0;34m(\u001b[0m\u001b[0mself\u001b[0m\u001b[0;34m.\u001b[0m\u001b[0mterminals\u001b[0m\u001b[0;34m)\u001b[0m\u001b[0;34m\u001b[0m\u001b[0;34m\u001b[0m\u001b[0m\n\u001b[1;32m     50\u001b[0m         \u001b[0;31m# Perform the operation and get the output.\u001b[0m\u001b[0;34m\u001b[0m\u001b[0;34m\u001b[0m\u001b[0;34m\u001b[0m\u001b[0m\n\u001b[0;32m---> 51\u001b[0;31m         \u001b[0mlayer_output\u001b[0m \u001b[0;34m=\u001b[0m \u001b[0mop\u001b[0m\u001b[0;34m(\u001b[0m\u001b[0mself\u001b[0m\u001b[0;34m,\u001b[0m \u001b[0mlayer_input\u001b[0m\u001b[0;34m,\u001b[0m \u001b[0;34m*\u001b[0m\u001b[0margs\u001b[0m\u001b[0;34m,\u001b[0m \u001b[0;34m**\u001b[0m\u001b[0mkwargs\u001b[0m\u001b[0;34m)\u001b[0m\u001b[0;34m\u001b[0m\u001b[0;34m\u001b[0m\u001b[0m\n\u001b[0m\u001b[1;32m     52\u001b[0m         \u001b[0;31m# Add to layer LUT.\u001b[0m\u001b[0;34m\u001b[0m\u001b[0;34m\u001b[0m\u001b[0;34m\u001b[0m\u001b[0m\n\u001b[1;32m     53\u001b[0m         \u001b[0mself\u001b[0m\u001b[0;34m.\u001b[0m\u001b[0mlayers\u001b[0m\u001b[0;34m[\u001b[0m\u001b[0mname\u001b[0m\u001b[0;34m]\u001b[0m \u001b[0;34m=\u001b[0m \u001b[0mlayer_output\u001b[0m\u001b[0;34m\u001b[0m\u001b[0;34m\u001b[0m\u001b[0m\n",
            "\u001b[0;32m/content/drive/My Drive/DATASET_face/facenet-master/src/align/detect_face.py\u001b[0m in \u001b[0;36mfc\u001b[0;34m(self, inp, num_out, name, relu)\u001b[0m\n\u001b[1;32m    192\u001b[0m                 \u001b[0mfeed_in\u001b[0m \u001b[0;34m=\u001b[0m \u001b[0mtf\u001b[0m\u001b[0;34m.\u001b[0m\u001b[0mreshape\u001b[0m\u001b[0;34m(\u001b[0m\u001b[0minp\u001b[0m\u001b[0;34m,\u001b[0m \u001b[0;34m[\u001b[0m\u001b[0;34m-\u001b[0m\u001b[0;36m1\u001b[0m\u001b[0;34m,\u001b[0m \u001b[0mdim\u001b[0m\u001b[0;34m]\u001b[0m\u001b[0;34m)\u001b[0m\u001b[0;34m\u001b[0m\u001b[0;34m\u001b[0m\u001b[0m\n\u001b[1;32m    193\u001b[0m             \u001b[0;32melse\u001b[0m\u001b[0;34m:\u001b[0m\u001b[0;34m\u001b[0m\u001b[0;34m\u001b[0m\u001b[0m\n\u001b[0;32m--> 194\u001b[0;31m                 \u001b[0mfeed_in\u001b[0m\u001b[0;34m,\u001b[0m \u001b[0mdim\u001b[0m \u001b[0;34m=\u001b[0m \u001b[0;34m(\u001b[0m\u001b[0minp\u001b[0m\u001b[0;34m,\u001b[0m \u001b[0minput_shape\u001b[0m\u001b[0;34m[\u001b[0m\u001b[0;34m-\u001b[0m\u001b[0;36m1\u001b[0m\u001b[0;34m]\u001b[0m\u001b[0;34m.\u001b[0m\u001b[0mvalue\u001b[0m\u001b[0;34m)\u001b[0m\u001b[0;34m\u001b[0m\u001b[0;34m\u001b[0m\u001b[0m\n\u001b[0m\u001b[1;32m    195\u001b[0m             \u001b[0mweights\u001b[0m \u001b[0;34m=\u001b[0m \u001b[0mself\u001b[0m\u001b[0;34m.\u001b[0m\u001b[0mmake_var\u001b[0m\u001b[0;34m(\u001b[0m\u001b[0;34m'weights'\u001b[0m\u001b[0;34m,\u001b[0m \u001b[0mshape\u001b[0m\u001b[0;34m=\u001b[0m\u001b[0;34m[\u001b[0m\u001b[0mdim\u001b[0m\u001b[0;34m,\u001b[0m \u001b[0mnum_out\u001b[0m\u001b[0;34m]\u001b[0m\u001b[0;34m)\u001b[0m\u001b[0;34m\u001b[0m\u001b[0;34m\u001b[0m\u001b[0m\n\u001b[1;32m    196\u001b[0m             \u001b[0mbiases\u001b[0m \u001b[0;34m=\u001b[0m \u001b[0mself\u001b[0m\u001b[0;34m.\u001b[0m\u001b[0mmake_var\u001b[0m\u001b[0;34m(\u001b[0m\u001b[0;34m'biases'\u001b[0m\u001b[0;34m,\u001b[0m \u001b[0;34m[\u001b[0m\u001b[0mnum_out\u001b[0m\u001b[0;34m]\u001b[0m\u001b[0;34m)\u001b[0m\u001b[0;34m\u001b[0m\u001b[0;34m\u001b[0m\u001b[0m\n",
            "\u001b[0;31mAttributeError\u001b[0m: 'int' object has no attribute 'value'"
          ]
        }
      ]
    },
    {
      "cell_type": "code",
      "metadata": {
        "id": "6-m4778oTMwh",
        "colab_type": "code",
        "outputId": "dfffe94a-f9ca-4bb2-afa3-0388b193619a",
        "colab": {
          "base_uri": "https://localhost:8080/",
          "height": 280
        }
      },
      "source": [
        "!pip install --upgrade smart_open"
      ],
      "execution_count": 0,
      "outputs": [
        {
          "output_type": "stream",
          "text": [
            "Requirement already up-to-date: smart_open in /usr/local/lib/python3.6/dist-packages (2.0.0)\n",
            "Requirement already satisfied, skipping upgrade: boto3 in /usr/local/lib/python3.6/dist-packages (from smart_open) (1.13.3)\n",
            "Requirement already satisfied, skipping upgrade: boto in /usr/local/lib/python3.6/dist-packages (from smart_open) (2.49.0)\n",
            "Requirement already satisfied, skipping upgrade: requests in /usr/local/lib/python3.6/dist-packages (from smart_open) (2.23.0)\n",
            "Requirement already satisfied, skipping upgrade: botocore<1.17.0,>=1.16.3 in /usr/local/lib/python3.6/dist-packages (from boto3->smart_open) (1.16.3)\n",
            "Requirement already satisfied, skipping upgrade: jmespath<1.0.0,>=0.7.1 in /usr/local/lib/python3.6/dist-packages (from boto3->smart_open) (0.9.5)\n",
            "Requirement already satisfied, skipping upgrade: s3transfer<0.4.0,>=0.3.0 in /usr/local/lib/python3.6/dist-packages (from boto3->smart_open) (0.3.3)\n",
            "Requirement already satisfied, skipping upgrade: chardet<4,>=3.0.2 in /usr/local/lib/python3.6/dist-packages (from requests->smart_open) (3.0.4)\n",
            "Requirement already satisfied, skipping upgrade: urllib3!=1.25.0,!=1.25.1,<1.26,>=1.21.1 in /usr/local/lib/python3.6/dist-packages (from requests->smart_open) (1.24.3)\n",
            "Requirement already satisfied, skipping upgrade: certifi>=2017.4.17 in /usr/local/lib/python3.6/dist-packages (from requests->smart_open) (2020.4.5.1)\n",
            "Requirement already satisfied, skipping upgrade: idna<3,>=2.5 in /usr/local/lib/python3.6/dist-packages (from requests->smart_open) (2.9)\n",
            "Requirement already satisfied, skipping upgrade: docutils<0.16,>=0.10 in /usr/local/lib/python3.6/dist-packages (from botocore<1.17.0,>=1.16.3->boto3->smart_open) (0.15.2)\n",
            "Requirement already satisfied, skipping upgrade: python-dateutil<3.0.0,>=2.1 in /usr/local/lib/python3.6/dist-packages (from botocore<1.17.0,>=1.16.3->boto3->smart_open) (2.8.1)\n",
            "Requirement already satisfied, skipping upgrade: six>=1.5 in /usr/local/lib/python3.6/dist-packages (from python-dateutil<3.0.0,>=2.1->botocore<1.17.0,>=1.16.3->boto3->smart_open) (1.12.0)\n"
          ],
          "name": "stdout"
        }
      ]
    }
  ]
}